{
 "cells": [
  {
   "cell_type": "markdown",
   "id": "bf67f798",
   "metadata": {},
   "source": [
    "# Create model with more features"
   ]
  },
  {
   "cell_type": "code",
   "execution_count": 1,
   "id": "46caf47e",
   "metadata": {},
   "outputs": [],
   "source": [
    "import pandas as pd\n",
    "import numpy as np\n",
    "import matplotlib.pyplot as plt\n",
    "import warnings\n",
    "\n",
    "warnings.filterwarnings(\"ignore\")\n",
    "\n",
    "%matplotlib inline"
   ]
  },
  {
   "cell_type": "code",
   "execution_count": 2,
   "id": "f7b3381c",
   "metadata": {},
   "outputs": [
    {
     "name": "stdout",
     "output_type": "stream",
     "text": [
      "        City FuelType   BodyType  KmsDriven TransmissionType  NumberOwner  \\\n",
      "0  Bangalore   Petrol  Hatchback     120000           Manual            3   \n",
      "1  Bangalore   Petrol        SUV      32706           Manual            2   \n",
      "2  Bangalore   Petrol  Hatchback      11949           Manual            1   \n",
      "3  Bangalore   Petrol      Sedan      17794           Manual            1   \n",
      "4  Bangalore   Diesel        SUV      60000           Manual            1   \n",
      "\n",
      "       Insurance Manufacturer            CarModel  ModelYear  \\\n",
      "0    Third Party       Maruti      Maruti Celerio       2015   \n",
      "1  Comprehensive         Ford       Ford Ecosport       2018   \n",
      "2  Comprehensive         Tata          Tata Tiago       2018   \n",
      "3  Comprehensive      Hyundai       Hyundai Xcent       2014   \n",
      "4    Third Party       Maruti  Maruti SX4 S Cross       2015   \n",
      "\n",
      "                VariantName  Mileage  Engine   Price  No of Cylinder  Seats  \\\n",
      "0                       VXI       23     998  400000               3      5   \n",
      "1  1.5 Petrol Titanium BSIV       17    1497  811000               3      5   \n",
      "2           1.2 Revotron XZ       23    1199  585000               3      5   \n",
      "3        1.2 Kappa S Option       19    1197  462000               4      5   \n",
      "4             DDiS 200 Zeta       23    1248  790000               4      5   \n",
      "\n",
      "   AgeOfCar  \n",
      "0         9  \n",
      "1         6  \n",
      "2         6  \n",
      "3        10  \n",
      "4         9  \n"
     ]
    },
    {
     "data": {
      "text/plain": [
       "City                object\n",
       "FuelType            object\n",
       "BodyType            object\n",
       "KmsDriven            int64\n",
       "TransmissionType    object\n",
       "NumberOwner          int64\n",
       "Insurance           object\n",
       "Manufacturer        object\n",
       "CarModel            object\n",
       "ModelYear            int64\n",
       "VariantName         object\n",
       "Mileage              int64\n",
       "Engine               int64\n",
       "Price                int64\n",
       "No of Cylinder       int64\n",
       "Seats                int64\n",
       "AgeOfCar             int64\n",
       "dtype: object"
      ]
     },
     "execution_count": 2,
     "metadata": {},
     "output_type": "execute_result"
    }
   ],
   "source": [
    "df_filtered = pd.read_csv('C:\\\\Users\\\\Lenovo\\\\Downloads\\\\data\\\\df_filtered.csv')\n",
    "\n",
    "print(df_filtered.head())\n",
    "\n",
    "df_filtered.dtypes"
   ]
  },
  {
   "cell_type": "markdown",
   "id": "7dffc161",
   "metadata": {},
   "source": [
    "# Select all features in df_filtered dataset\n"
   ]
  },
  {
   "cell_type": "code",
   "execution_count": 3,
   "id": "55d0fd5c",
   "metadata": {},
   "outputs": [],
   "source": [
    "# Features (X): all columns except 'Price'\n",
    "X = df_filtered[['City', 'FuelType', 'BodyType', 'TransmissionType', 'Insurance', 'Manufacturer', 'CarModel', 'VariantName',\n",
    "        'KmsDriven', 'NumberOwner', 'Mileage', 'Engine', 'No of Cylinder', 'Seats', 'AgeOfCar']]\n",
    "\n",
    "# Target (y): the 'Price' column\n",
    "y = df_filtered['Price']"
   ]
  },
  {
   "cell_type": "markdown",
   "id": "02839d35",
   "metadata": {},
   "source": [
    "# Create model with all features"
   ]
  },
  {
   "cell_type": "code",
   "execution_count": 4,
   "id": "7bea6842",
   "metadata": {},
   "outputs": [
    {
     "name": "stdout",
     "output_type": "stream",
     "text": [
      "Mean Squared Error: 128695432944.5775\n",
      "Root Mean Squarred Error: 358741.45696389413\n",
      "Explained Variance Score: 0.9027379202945107\n",
      "R-Sqaure Score(Accuracy): 0.9026954304684864\n"
     ]
    }
   ],
   "source": [
    "from sklearn.preprocessing import OneHotEncoder, StandardScaler\n",
    "from sklearn.compose import ColumnTransformer\n",
    "from sklearn.ensemble import RandomForestRegressor\n",
    "from sklearn.model_selection import train_test_split\n",
    "from sklearn.metrics import mean_squared_error, explained_variance_score, r2_score\n",
    "\n",
    "# Define categorical and numerical features\n",
    "categorical_features = ['City', 'FuelType', 'BodyType', 'TransmissionType', 'Insurance', 'Manufacturer', 'CarModel', 'VariantName']\n",
    "numerical_features = ['KmsDriven', 'NumberOwner', 'Mileage', 'Engine', 'No of Cylinder', 'AgeOfCar']\n",
    "\n",
    "# OneHotEncode categorical features and scale numerical features\n",
    "preprocessor = ColumnTransformer(\n",
    "    transformers=[\n",
    "        ('num', StandardScaler(), numerical_features),\n",
    "        ('cat', OneHotEncoder(handle_unknown='ignore'), categorical_features)  # Ignore unknown categories\n",
    "    ])\n",
    "\n",
    "# Split the data into training and test sets\n",
    "X_train, X_test, y_train, y_test = train_test_split(X, y, test_size=0.2, random_state=42)\n",
    "\n",
    "# Apply preprocessing\n",
    "X_train = preprocessor.fit_transform(X_train)\n",
    "X_test = preprocessor.transform(X_test)\n",
    "\n",
    "# Initialize and train a Random Forest model\n",
    "model = RandomForestRegressor(n_estimators=25, random_state=42)\n",
    "model.fit(X_train, y_train)\n",
    "\n",
    "# Predict on test set and evaluate\n",
    "y_pred = model.predict(X_test)\n",
    "mse = mean_squared_error(y_test, y_pred)\n",
    "rmse = (np.sqrt(mean_squared_error(y_true= y_test, y_pred= y_pred)))\n",
    "evs = (explained_variance_score(y_true= y_test, y_pred= y_pred))\n",
    "r_square_score = (r2_score(y_true= y_test, y_pred= y_pred))\n",
    "print(f\"Mean Squared Error: {mse}\")\n",
    "print(f\"Root Mean Squarred Error: {rmse}\")\n",
    "print(f\"Explained Variance Score: {evs}\")\n",
    "print(f\"R-Sqaure Score(Accuracy): {r_square_score}\")"
   ]
  },
  {
   "cell_type": "markdown",
   "id": "9153a670",
   "metadata": {},
   "source": [
    "### RandomForestRegressor accuracy rate is 94%"
   ]
  },
  {
   "cell_type": "code",
   "execution_count": 5,
   "id": "29cd6f21",
   "metadata": {},
   "outputs": [],
   "source": [
    "import pickle\n",
    "    \n",
    "with open('random_forest_model_with_preprocessor.pkl', 'wb') as file:\n",
    "    pickle.dump((model, preprocessor), file)   "
   ]
  },
  {
   "cell_type": "code",
   "execution_count": 6,
   "id": "a7696fc0",
   "metadata": {},
   "outputs": [
    {
     "name": "stdout",
     "output_type": "stream",
     "text": [
      "Predicted Price: 634520.0\n"
     ]
    }
   ],
   "source": [
    "import pickle\n",
    "import pandas as pd\n",
    "\n",
    "# Load the saved model\n",
    "model_filename = 'random_forest_model_with_preprocessor.pkl'\n",
    "with open(model_filename, 'rb') as file:\n",
    "    loaded_model, preprocessor = pickle.load(file)\n",
    "\n",
    "# Define new car data for prediction\n",
    "new_data = {\n",
    "    'City': 'Mumbai',\n",
    "    'FuelType': 'Petrol',\n",
    "    'BodyType': 'Sedan',\n",
    "    'TransmissionType': 'Manual',\n",
    "    'Insurance': 'Yes',\n",
    "    'Manufacturer': 'Maruthi',\n",
    "    'CarModel': 'Swift',\n",
    "    'VariantName': 'VX',\n",
    "    'KmsDriven': 50000,\n",
    "    'NumberOwner': 1,\n",
    "    'ModelYear': 2015,\n",
    "    'Mileage': 18.0,\n",
    "    'Engine': 1497,\n",
    "    'No of Cylinder': 4,\n",
    "    'Seats': 5,\n",
    "    'AgeOfCar': 8\n",
    "}\n",
    "\n",
    "# Convert new data to a DataFrame\n",
    "new_data_df = pd.DataFrame([new_data])\n",
    "\n",
    "# Apply the same preprocessing used during training\n",
    "new_data_preprocessed = preprocessor.transform(new_data_df)\n",
    "\n",
    "# Predict the price\n",
    "predicted_price = loaded_model.predict(new_data_preprocessed)\n",
    "\n",
    "print(f\"Predicted Price: {predicted_price[0]}\")"
   ]
  }
 ],
 "metadata": {
  "kernelspec": {
   "display_name": "Python 3 (ipykernel)",
   "language": "python",
   "name": "python3"
  },
  "language_info": {
   "codemirror_mode": {
    "name": "ipython",
    "version": 3
   },
   "file_extension": ".py",
   "mimetype": "text/x-python",
   "name": "python",
   "nbconvert_exporter": "python",
   "pygments_lexer": "ipython3",
   "version": "3.9.12"
  }
 },
 "nbformat": 4,
 "nbformat_minor": 5
}
